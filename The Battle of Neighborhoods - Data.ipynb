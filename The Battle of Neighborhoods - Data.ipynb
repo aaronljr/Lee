{
 "cells": [
  {
   "cell_type": "markdown",
   "metadata": {},
   "source": [
    "## The Battle of Neighborhoods - Data"
   ]
  },
  {
   "cell_type": "markdown",
   "metadata": {},
   "source": [
    "The most important data required to answer the problem statement includes the **locations and types of venues** around the Toronto city.\n",
    "\n",
    "First, the **locations of travel accommodations** such as hotels, hostels and motels in the region will be extracted to estimate the flow of travellers and potential amount of customers that would frequent the laundromat as they are the primary target market. Next, the ** locations of all existing laundromats or laundry services ** will need to be obtained. This is to reduce the competition but setting up the laundromat a certain distance away from other existing laundromats. \n",
    "\n",
    "An ideal location for the laundromat would be at the centre of a cluster of hotels and hostels as mentioned. A clustering algorithm can be performed on the locations of travel accomodations and laundromats separately to find the concen"
   ]
  }
 ],
 "metadata": {
  "kernelspec": {
   "display_name": "Python 3",
   "language": "python",
   "name": "python3"
  },
  "language_info": {
   "codemirror_mode": {
    "name": "ipython",
    "version": 3
   },
   "file_extension": ".py",
   "mimetype": "text/x-python",
   "name": "python",
   "nbconvert_exporter": "python",
   "pygments_lexer": "ipython3",
   "version": "3.6.6"
  }
 },
 "nbformat": 4,
 "nbformat_minor": 2
}
