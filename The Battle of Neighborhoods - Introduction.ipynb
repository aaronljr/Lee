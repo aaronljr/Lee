{
 "cells": [
  {
   "cell_type": "markdown",
   "metadata": {},
   "source": [
    "## The Battle of Neighborhoods - Introduction/Business Problem"
   ]
  },
  {
   "cell_type": "markdown",
   "metadata": {},
   "source": [
    "The city of Toronto is the most populous city in Canada, with  a population of 2,731,571 in 2016. It is the centre of business, finance, arts and culture, being recognized as one of the most multicultural and cosmopolitan cities in the world. Its varied cultural institutions attract for over 25 million tourists each year, and is one of Canada's leading tourism destinations. \n",
    "\n",
    "The booming tourism industry has propelled the increase in demand for hotels and hostels in the region. The demand for travel accomodations would also lead the increase in the appeal of laundry services. In a city with high tourist volume, tourists would often look for cheaper alternative than the hotel laundry services, and thus this would be a good business opportunity. \n",
    "\n",
    "\n",
    "Thus, the problem statement is as follow: \n",
    "\n",
    "**What is the best place to set up a laundromat in the city of Toronto that is in close proximity to travel accomodations, yet at a distance from other competing laundromats?**"
   ]
  }
 ],
 "metadata": {
  "kernelspec": {
   "display_name": "Python 3",
   "language": "python",
   "name": "python3"
  },
  "language_info": {
   "codemirror_mode": {
    "name": "ipython",
    "version": 3
   },
   "file_extension": ".py",
   "mimetype": "text/x-python",
   "name": "python",
   "nbconvert_exporter": "python",
   "pygments_lexer": "ipython3",
   "version": "3.6.6"
  }
 },
 "nbformat": 4,
 "nbformat_minor": 2
}
